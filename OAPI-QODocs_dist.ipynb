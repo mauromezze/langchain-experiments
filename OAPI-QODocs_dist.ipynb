{
 "cells": [
  {
   "cell_type": "code",
   "execution_count": null,
   "metadata": {},
   "outputs": [],
   "source": [
    "import os\n",
    "os.environ[\"OPENAI_API_KEY\"] = \"your OpenAI key\"\n",
    "\n",
    "from langchain.llms import OpenAI\n",
    "\n",
    "from langchain.text_splitter import RecursiveCharacterTextSplitter\n",
    "from langchain.chains import RetrievalQA\n",
    "from langchain.embeddings import OpenAIEmbeddings\n",
    "from langchain.vectorstores import Chroma\n",
    "from langchain.document_loaders import DirectoryLoader\n",
    "\n",
    "\n",
    "ABS_PATH = os.path.dirname(os.path.abspath(''))\n",
    "DB_DIR = os.path.join(ABS_PATH, \"db\")\n",
    "FILE_DIR = os.path.join(ABS_PATH, \"docs\")\n",
    "\n",
    "embeddings = OpenAIEmbeddings()\n",
    "\n",
    "llm = OpenAI(temperature=0)\n",
    "\n",
    "text_splitter = RecursiveCharacterTextSplitter(chunk_size=1000, chunk_overlap=100)\n",
    "\n",
    "loader = DirectoryLoader(FILE_DIR, glob=\"**/*.txt\", show_progress=True)\n",
    "docs = loader.load()\n",
    "texts = text_splitter.split_documents(docs)\n",
    "\n",
    "db = Chroma.from_documents(texts, embeddings, collection_name=\"docstore\", persist_directory=DB_DIR)\n",
    "\n",
    "retriever = db.as_retriever()\n",
    "retriever.search_kwargs['distance_metric'] = 'cos'\n",
    "retriever.search_kwargs['k'] = 4\n",
    "\n",
    "qa = RetrievalQA.from_chain_type(llm=llm, chain_type=\"stuff\", retriever=retriever, return_source_documents=False)"
   ]
  },
  {
   "cell_type": "code",
   "execution_count": null,
   "metadata": {},
   "outputs": [],
   "source": [
    "#query = input(\"Enter query:\") #interactive Q&A\n",
    "\n",
    "ans = qa({\"query\": \"your query\"})\n",
    "\n",
    "print(ans)"
   ]
  }
 ],
 "metadata": {
  "kernelspec": {
   "display_name": "lc",
   "language": "python",
   "name": "python3"
  },
  "language_info": {
   "codemirror_mode": {
    "name": "ipython",
    "version": 3
   },
   "file_extension": ".py",
   "mimetype": "text/x-python",
   "name": "python",
   "nbconvert_exporter": "python",
   "pygments_lexer": "ipython3",
   "version": "3.10.9"
  },
  "orig_nbformat": 4
 },
 "nbformat": 4,
 "nbformat_minor": 2
}
